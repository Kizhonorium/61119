{
 "cells": [
  {
   "cell_type": "markdown",
   "id": "afdb5d48",
   "metadata": {},
   "source": [
    "<h4 align='center'>Лабораторная работа № 11</h4>\n",
    "<p><b>Тема:</b> Бібліотека SymPy для символьних обчислень в Python.</p>"
   ]
  },
  {
   "cell_type": "markdown",
   "id": "96ab6124",
   "metadata": {},
   "source": [
    "<p>1. Спростити вираз та обчислити його, якщо задані числові значення параметрів: </p>\n",
    "$$\n",
    "    \\left(\\frac{(a+b)^\\frac{-n}{4}c^\\frac{1}{2}}{a^{2-n}b^\\frac{-3}{4}}\\right)^\\frac{4}{3}:\\left(\\frac{b^3 c^4}{(a+b)^{2n}a^{16-8n}}\\right)^\\frac{1}{6}; b=0.04\n",
    "$$"
   ]
  },
  {
   "cell_type": "code",
   "execution_count": 20,
   "id": "dd40b41c",
   "metadata": {},
   "outputs": [],
   "source": [
    "from sympy import *"
   ]
  },
  {
   "cell_type": "code",
   "execution_count": 39,
   "id": "530cfa39",
   "metadata": {},
   "outputs": [],
   "source": [
    "a, b, c, n = symbols('a b c n')\n",
    "# left numerator\n",
    "left_num = (a + b) ** (-n * Rational(1, 4)) * sqrt(c)\n",
    "# left denominator\n",
    "left_den = a ** (2 - n) * b ** Rational(-3, 4)\n",
    "# left expression\n",
    "left_expr = (left_num / left_den) ** Rational(4, 3)\n",
    "# right expression\n",
    "right_num = (b ** 3) * c ** 4\n",
    "right_den = (a + b) ** (2 * n) * a ** (16 - 8 * n)\n",
    "right_expr = (right_num ** Rational(1, 6)) / (right_den ** Rational(1, 6)) \n",
    "expr = left_expr / right_expr"
   ]
  },
  {
   "cell_type": "code",
   "execution_count": 40,
   "id": "f1068713",
   "metadata": {},
   "outputs": [
    {
     "data": {
      "text/latex": [
       "$\\displaystyle \\frac{\\sqrt[6]{a^{16 - 8 n} \\left(a + b\\right)^{2 n}} \\left(a^{n - 2} b^{\\frac{3}{4}} \\sqrt{c} \\left(a + b\\right)^{- \\frac{n}{4}}\\right)^{\\frac{4}{3}}}{\\sqrt[6]{b^{3} c^{4}}}$"
      ],
      "text/plain": [
       "                                                     4/3\n",
       "                          ⎛                      -n ⎞   \n",
       "   ______________________ ⎜                      ───⎟   \n",
       "6 ╱  16 - 8⋅n        2⋅n  ⎜ n - 2  3/4            4 ⎟   \n",
       "╲╱  a        ⋅(a + b)    ⋅⎝a     ⋅b   ⋅√c⋅(a + b)   ⎠   \n",
       "────────────────────────────────────────────────────────\n",
       "                          _______                       \n",
       "                       6 ╱  3  4                        \n",
       "                       ╲╱  b ⋅c                         "
      ]
     },
     "execution_count": 40,
     "metadata": {},
     "output_type": "execute_result"
    }
   ],
   "source": [
    "# output expression\n",
    "expr"
   ]
  },
  {
   "cell_type": "code",
   "execution_count": 36,
   "id": "79fa6bbb",
   "metadata": {},
   "outputs": [],
   "source": [
    "# simplify the expression\n",
    "smpl = expr.evalf()"
   ]
  },
  {
   "cell_type": "code",
   "execution_count": 37,
   "id": "a597f441",
   "metadata": {},
   "outputs": [
    {
     "data": {
      "text/latex": [
       "$\\displaystyle \\frac{\\left(a^{16.0 - 8.0 n} \\left(a + b\\right)^{2.0 n}\\right)^{0.166666666666667} \\left(a^{n - 2.0} b^{0.75} c^{0.5} \\left(a + b\\right)^{- 0.25 n}\\right)^{1.33333333333333}}{\\left(b^{3} c^{4}\\right)^{0.166666666666667}}$"
      ],
      "text/plain": [
       "                            0.166666666666667        -0.166666666666667       \n",
       "⎛ 16.0 - 8.0⋅n        2.0⋅n⎞                  ⎛ 3  4⎞                   ⎛ n - \n",
       "⎝a            ⋅(a + b)     ⎠                 ⋅⎝b ⋅c ⎠                  ⋅⎝a    \n",
       "\n",
       "                              1.33333333333333\n",
       "2.0  0.75  0.5        -0.25⋅n⎞                \n",
       "   ⋅b    ⋅c   ⋅(a + b)       ⎠                "
      ]
     },
     "execution_count": 37,
     "metadata": {},
     "output_type": "execute_result"
    }
   ],
   "source": [
    "smpl"
   ]
  },
  {
   "cell_type": "code",
   "execution_count": 41,
   "id": "0741352e",
   "metadata": {},
   "outputs": [
    {
     "data": {
      "text/latex": [
       "$\\displaystyle \\frac{0.2 \\left(a^{16.0 - 8.0 n} \\left(a + 0.04\\right)^{2.0 n}\\right)^{0.166666666666667} \\left(a^{n - 2.0} c^{0.5} \\left(a + 0.04\\right)^{- 0.25 n}\\right)^{1.33333333333333}}{\\left(c^{4}\\right)^{0.166666666666667}}$"
      ],
      "text/plain": [
       "                                   0.166666666666667                          \n",
       "    ⎛ 16.0 - 8.0⋅n           2.0⋅n⎞                  ⎛ n - 2.0  0.5           \n",
       "0.2⋅⎝a            ⋅(a + 0.04)     ⎠                 ⋅⎝a       ⋅c   ⋅(a + 0.04)\n",
       "\n",
       "        1.33333333333333     -0.166666666666667\n",
       "-0.25⋅n⎞                 ⎛ 4⎞                  \n",
       "       ⎠                ⋅⎝c ⎠                  "
      ]
     },
     "execution_count": 41,
     "metadata": {},
     "output_type": "execute_result"
    }
   ],
   "source": [
    "# substitute the value 'b'\n",
    "smpl.subs(b, 0.04)"
   ]
  },
  {
   "cell_type": "markdown",
   "id": "31a73683",
   "metadata": {},
   "source": [
    "<p>2. Знайти розв’язок рівняння в аналітичному вигляді: </p>\n",
    "$$\n",
    "    x^4 - \\frac{50}{2x^4 - 7}=14\n",
    "$$"
   ]
  },
  {
   "cell_type": "code",
   "execution_count": 47,
   "id": "472d1144",
   "metadata": {},
   "outputs": [],
   "source": [
    "from sympy.abc import x"
   ]
  },
  {
   "cell_type": "code",
   "execution_count": 52,
   "id": "a4115c68",
   "metadata": {},
   "outputs": [],
   "source": [
    "eq = x ** 4 - 50 / (2 * x ** 4 - 7)\n",
    "eq = Eq(eq, 14)"
   ]
  },
  {
   "cell_type": "code",
   "execution_count": 53,
   "id": "d0037d16",
   "metadata": {},
   "outputs": [
    {
     "data": {
      "text/latex": [
       "$\\displaystyle x^{4} - \\frac{50}{2 x^{4} - 7} = 14$"
      ],
      "text/plain": [
       " 4      50        \n",
       "x  - ──────── = 14\n",
       "        4         \n",
       "     2⋅x  - 7     "
      ]
     },
     "execution_count": 53,
     "metadata": {},
     "output_type": "execute_result"
    }
   ],
   "source": [
    "eq"
   ]
  },
  {
   "cell_type": "code",
   "execution_count": 55,
   "id": "a1d0c298",
   "metadata": {},
   "outputs": [
    {
     "name": "stdout",
     "output_type": "stream",
     "text": [
      "Розв'язок рівняння\n"
     ]
    },
    {
     "data": {
      "text/latex": [
       "$\\displaystyle \\left\\{-2, 2, - 2 i, 2 i, - \\frac{2^{\\frac{3}{4}} \\sqrt[4]{3}}{2}, \\frac{2^{\\frac{3}{4}} \\sqrt[4]{3}}{2}, - \\frac{2^{\\frac{3}{4}} \\sqrt[4]{3} i}{2}, \\frac{2^{\\frac{3}{4}} \\sqrt[4]{3} i}{2}\\right\\}$"
      ],
      "text/plain": [
       "⎧                    3/4 4 ___    3/4 4 ___    3/4 4 ___      3/4 4 ___  ⎫\n",
       "⎪                  -2   ⋅╲╱ 3    2   ⋅╲╱ 3   -2   ⋅╲╱ 3 ⋅ⅈ   2   ⋅╲╱ 3 ⋅ⅈ⎪\n",
       "⎨-2, 2, -2⋅ⅈ, 2⋅ⅈ, ────────────, ──────────, ──────────────, ────────────⎬\n",
       "⎪                       2            2             2              2      ⎪\n",
       "⎩                                                                        ⎭"
      ]
     },
     "execution_count": 55,
     "metadata": {},
     "output_type": "execute_result"
    }
   ],
   "source": [
    "print(\"Розв'язок рівняння\")\n",
    "solveset(eq, x)"
   ]
  },
  {
   "cell_type": "markdown",
   "id": "31284db7",
   "metadata": {},
   "source": [
    "<p>3. Знайти розв’язок рівняння в аналітичному вигляді:</p>\n",
    "$$\n",
    "    \\log_{1-x}3 - \\log_{1-x}2 - 0.5 = 0\n",
    "$$"
   ]
  },
  {
   "cell_type": "code",
   "execution_count": 56,
   "id": "5d4a32e1",
   "metadata": {},
   "outputs": [],
   "source": [
    "eq = log(3, 1-x) - log(2, 1-x) - 0.5\n",
    "eq = Eq(eq, 0)"
   ]
  },
  {
   "cell_type": "code",
   "execution_count": 57,
   "id": "042bc654",
   "metadata": {},
   "outputs": [
    {
     "data": {
      "text/latex": [
       "$\\displaystyle -0.5 - \\frac{\\log{\\left(2 \\right)}}{\\log{\\left(1 - x \\right)}} + \\frac{\\log{\\left(3 \\right)}}{\\log{\\left(1 - x \\right)}} = 0$"
      ],
      "text/plain": [
       "         log(2)       log(3)      \n",
       "-0.5 - ────────── + ────────── = 0\n",
       "       log(1 - x)   log(1 - x)    "
      ]
     },
     "execution_count": 57,
     "metadata": {},
     "output_type": "execute_result"
    }
   ],
   "source": [
    "eq"
   ]
  },
  {
   "cell_type": "code",
   "execution_count": 58,
   "id": "fecd4157",
   "metadata": {},
   "outputs": [
    {
     "name": "stdout",
     "output_type": "stream",
     "text": [
      "Розв'язок рівняння\n"
     ]
    },
    {
     "data": {
      "text/latex": [
       "$\\displaystyle \\left\\{-1.25\\right\\}$"
      ],
      "text/plain": [
       "{-1.25}"
      ]
     },
     "execution_count": 58,
     "metadata": {},
     "output_type": "execute_result"
    }
   ],
   "source": [
    "print(\"Розв'язок рівняння\")\n",
    "solveset(eq, x)"
   ]
  },
  {
   "cell_type": "markdown",
   "id": "3ad2de97",
   "metadata": {},
   "source": [
    "<p> 4. Знайти розв’язок системи рівнянь в аналітичному вигляді:</p>\n",
    "$$\n",
    "  \\begin{equation*}\n",
    "      \\begin{cases}\n",
    "      x^3 + x^3 y^3 + y^3 = 17\n",
    "      \\\\\n",
    "      x + xy + y = 5\n",
    "      \\end{cases}\n",
    "  \\end{equation*}\n",
    "$$"
   ]
  },
  {
   "cell_type": "code",
   "execution_count": 59,
   "id": "27af93de",
   "metadata": {},
   "outputs": [],
   "source": [
    "from sympy.abc import y"
   ]
  },
  {
   "cell_type": "code",
   "execution_count": 61,
   "id": "24553622",
   "metadata": {},
   "outputs": [],
   "source": [
    "eq1 = Eq(x ** 3 + x ** 3 * y ** 3 + y  ** 3, 17)\n",
    "eq2 = Eq(x + x * y + y, 5)"
   ]
  },
  {
   "cell_type": "code",
   "execution_count": 63,
   "id": "9b2afcc0",
   "metadata": {},
   "outputs": [
    {
     "name": "stdout",
     "output_type": "stream",
     "text": [
      "Розв'язок розв’язок системи рівнянь\n"
     ]
    },
    {
     "data": {
      "text/latex": [
       "$\\displaystyle \\left[ \\left( 1, \\  2\\right), \\  \\left( 2, \\  1\\right), \\  \\left( 1 - \\sqrt{2} i, \\  1 + \\sqrt{2} i\\right), \\  \\left( 1 + \\sqrt{2} i, \\  1 - \\sqrt{2} i\\right)\\right]$"
      ],
      "text/plain": [
       "[(1, 2), (2, 1), (1 - √2⋅ⅈ, 1 + √2⋅ⅈ), (1 + √2⋅ⅈ, 1 - √2⋅ⅈ)]"
      ]
     },
     "execution_count": 63,
     "metadata": {},
     "output_type": "execute_result"
    }
   ],
   "source": [
    "print(\"Розв'язок розв’язок системи рівнянь\")\n",
    "solve([eq1, eq2], [x, y])"
   ]
  },
  {
   "cell_type": "markdown",
   "id": "b9c5210e",
   "metadata": {},
   "source": [
    "<p>5. Знайти розв’язок диференціального рівняння:</p>\n",
    "$$\n",
    "   2x^3 y' = y(2x^2 - y^2)\n",
    "$$"
   ]
  },
  {
   "cell_type": "code",
   "execution_count": 64,
   "id": "5eec0598",
   "metadata": {},
   "outputs": [],
   "source": [
    "y = symbols('y', cls=Function)\n",
    "eq = Eq(2 * x ** 3 * y(x).diff(x), y(x) * (2 * x ** 2 - y(x) ** 2))"
   ]
  },
  {
   "cell_type": "code",
   "execution_count": 65,
   "id": "1e589edf",
   "metadata": {},
   "outputs": [
    {
     "data": {
      "text/latex": [
       "$\\displaystyle 2 x^{3} \\frac{d}{d x} y{\\left(x \\right)} = \\left(2 x^{2} - y^{2}{\\left(x \\right)}\\right) y{\\left(x \\right)}$"
      ],
      "text/plain": [
       "   3 d          ⎛   2    2   ⎞     \n",
       "2⋅x ⋅──(y(x)) = ⎝2⋅x  - y (x)⎠⋅y(x)\n",
       "     dx                            "
      ]
     },
     "execution_count": 65,
     "metadata": {},
     "output_type": "execute_result"
    }
   ],
   "source": [
    "eq"
   ]
  },
  {
   "cell_type": "code",
   "execution_count": 66,
   "id": "0b3869bf",
   "metadata": {},
   "outputs": [
    {
     "data": {
      "text/latex": [
       "$\\displaystyle \\left[ y{\\left(x \\right)} = - x \\sqrt{- \\frac{1}{C_{1} - \\log{\\left(x \\right)}}}, \\  y{\\left(x \\right)} = x \\sqrt{- \\frac{1}{C_{1} - \\log{\\left(x \\right)}}}\\right]$"
      ],
      "text/plain": [
       "⎡              _____________               _____________⎤\n",
       "⎢             ╱     -1                    ╱     -1      ⎥\n",
       "⎢y(x) = -x⋅  ╱  ─────────── , y(x) = x⋅  ╱  ─────────── ⎥\n",
       "⎣          ╲╱   C₁ - log(x)            ╲╱   C₁ - log(x) ⎦"
      ]
     },
     "execution_count": 66,
     "metadata": {},
     "output_type": "execute_result"
    }
   ],
   "source": [
    "dsolve(eq, y(x))"
   ]
  }
 ],
 "metadata": {
  "kernelspec": {
   "display_name": "Python 3 (ipykernel)",
   "language": "python",
   "name": "python3"
  },
  "language_info": {
   "codemirror_mode": {
    "name": "ipython",
    "version": 3
   },
   "file_extension": ".py",
   "mimetype": "text/x-python",
   "name": "python",
   "nbconvert_exporter": "python",
   "pygments_lexer": "ipython3",
   "version": "3.8.10"
  }
 },
 "nbformat": 4,
 "nbformat_minor": 5
}
