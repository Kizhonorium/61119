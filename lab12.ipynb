{
 "cells": [
  {
   "cell_type": "markdown",
   "id": "14076458",
   "metadata": {},
   "source": [
    "<h4 align='center'>Лабораторна робота № 12</h4>\n",
    "<p><b>Тема</b>: Застосування SymPy до розв’язку задач вищої математики. </p>\n",
    "<p>1. Обчислити границі функції:</p>\n",
    "$$\n",
    "    \\lim_{x\\to1+}{\\frac{6x}{2-e^{3x}-\\cos{4x}}}\n",
    "    \\\\\n",
    "    \\lim_{x\\to\\infty}{{\\left( \\frac{x+2}{x-1} \\right)^{x^2}}}\n",
    "$$"
   ]
  },
  {
   "cell_type": "code",
   "execution_count": 98,
   "id": "b6720d74",
   "metadata": {},
   "outputs": [
    {
     "name": "stdout",
     "output_type": "stream",
     "text": [
      "Requirement already satisfied: matplotlib in /home/stanislav/.local/lib/python3.8/site-packages (3.4.3)\n",
      "Requirement already satisfied: cycler>=0.10 in /home/stanislav/.local/lib/python3.8/site-packages (from matplotlib) (0.10.0)\n",
      "Requirement already satisfied: kiwisolver>=1.0.1 in /home/stanislav/.local/lib/python3.8/site-packages (from matplotlib) (1.3.2)\n",
      "Requirement already satisfied: numpy>=1.16 in /home/stanislav/.local/lib/python3.8/site-packages (from matplotlib) (1.21.2)\n",
      "Requirement already satisfied: pillow>=6.2.0 in /usr/lib/python3/dist-packages (from matplotlib) (7.0.0)\n",
      "Requirement already satisfied: python-dateutil>=2.7 in /usr/lib/python3/dist-packages (from matplotlib) (2.7.3)\n",
      "Requirement already satisfied: pyparsing>=2.2.1 in /usr/local/lib/python3.8/dist-packages (from matplotlib) (2.4.7)\n",
      "Requirement already satisfied: six in /usr/lib/python3/dist-packages (from cycler>=0.10->matplotlib) (1.14.0)\n",
      "Note: you may need to restart the kernel to use updated packages.\n"
     ]
    }
   ],
   "source": [
    "%pip install matplotlib\n",
    "from sympy import *\n",
    "from sympy.abc import x, y\n",
    "from sympy.plotting import plot"
   ]
  },
  {
   "cell_type": "code",
   "execution_count": 6,
   "id": "479ca102",
   "metadata": {},
   "outputs": [],
   "source": [
    "expr1 = (6 * x) / (2 - exp(3 * x) - cos(3 * x))\n",
    "expr2 = ((x + 2) / (x - 1)) ** (x ** 2)"
   ]
  },
  {
   "cell_type": "code",
   "execution_count": 8,
   "id": "ede649c6",
   "metadata": {},
   "outputs": [
    {
     "data": {
      "text/latex": [
       "$\\displaystyle \\frac{6}{- e^{3} - \\cos{\\left(3 \\right)} + 2}$"
      ],
      "text/plain": [
       "6/(-exp(3) - cos(3) + 2)"
      ]
     },
     "execution_count": 8,
     "metadata": {},
     "output_type": "execute_result"
    }
   ],
   "source": [
    "limit(expr1, x, 1, '+')"
   ]
  },
  {
   "cell_type": "code",
   "execution_count": 10,
   "id": "23fcda0a",
   "metadata": {},
   "outputs": [
    {
     "data": {
      "text/latex": [
       "$\\displaystyle \\infty$"
      ],
      "text/plain": [
       "oo"
      ]
     },
     "execution_count": 10,
     "metadata": {},
     "output_type": "execute_result"
    }
   ],
   "source": [
    "limit(expr2, x, oo)"
   ]
  },
  {
   "cell_type": "markdown",
   "id": "8dc4159f",
   "metadata": {},
   "source": [
    "<p>2. Обчислити похідну. Знайти 𝑦′′ та 𝑦′′′. Знайти всі частинні похідні:</p>\n",
    "$$\n",
    "    y = \\sin^2{2x} + \\ln{3x} - \\tan{\\sqrt{x-2}}\n",
    "$$"
   ]
  },
  {
   "cell_type": "code",
   "execution_count": 33,
   "id": "28be8b51",
   "metadata": {},
   "outputs": [
    {
     "data": {
      "text/latex": [
       "$\\displaystyle 4 \\sin{\\left(2 x \\right)} \\cos{\\left(2 x \\right)} - \\frac{\\tan^{2}{\\left(\\sqrt{x - 2} \\right)} + 1}{2 \\sqrt{x - 2}} + \\frac{1}{x}$"
      ],
      "text/plain": [
       "4*sin(2*x)*cos(2*x) - (tan(sqrt(x - 2))**2 + 1)/(2*sqrt(x - 2)) + 1/x"
      ]
     },
     "execution_count": 33,
     "metadata": {},
     "output_type": "execute_result"
    }
   ],
   "source": [
    "func = sin(2 * x) ** 2 + ln(3 * x) - tan(sqrt(x - 2))\n",
    "diff(func, x)"
   ]
  },
  {
   "cell_type": "code",
   "execution_count": 31,
   "id": "06b42198",
   "metadata": {},
   "outputs": [
    {
     "data": {
      "text/latex": [
       "$\\displaystyle - 8 \\sin^{2}{\\left(2 x \\right)} + 8 \\cos^{2}{\\left(2 x \\right)} - \\frac{\\left(\\tan^{2}{\\left(\\sqrt{x - 2} \\right)} + 1\\right) \\tan{\\left(\\sqrt{x - 2} \\right)}}{2 \\left(x - 2\\right)} + \\frac{\\tan^{2}{\\left(\\sqrt{x - 2} \\right)} + 1}{4 \\left(x - 2\\right)^{\\frac{3}{2}}} - \\frac{1}{x^{2}}$"
      ],
      "text/plain": [
       "-8*sin(2*x)**2 + 8*cos(2*x)**2 - (tan(sqrt(x - 2))**2 + 1)*tan(sqrt(x - 2))/(2*(x - 2)) + (tan(sqrt(x - 2))**2 + 1)/(4*(x - 2)**(3/2)) - 1/x**2"
      ]
     },
     "execution_count": 31,
     "metadata": {},
     "output_type": "execute_result"
    }
   ],
   "source": [
    "diff(func, x, 2)"
   ]
  },
  {
   "cell_type": "code",
   "execution_count": 32,
   "id": "78796013",
   "metadata": {},
   "outputs": [
    {
     "data": {
      "text/latex": [
       "$\\displaystyle - 64 \\sin{\\left(2 x \\right)} \\cos{\\left(2 x \\right)} + \\frac{3 \\left(\\tan^{2}{\\left(\\sqrt{x - 2} \\right)} + 1\\right) \\tan{\\left(\\sqrt{x - 2} \\right)}}{4 \\left(x - 2\\right)^{2}} - \\frac{\\left(\\tan^{2}{\\left(\\sqrt{x - 2} \\right)} + 1\\right)^{2}}{4 \\left(x - 2\\right)^{\\frac{3}{2}}} - \\frac{\\left(\\tan^{2}{\\left(\\sqrt{x - 2} \\right)} + 1\\right) \\tan^{2}{\\left(\\sqrt{x - 2} \\right)}}{2 \\left(x - 2\\right)^{\\frac{3}{2}}} - \\frac{3 \\left(\\tan^{2}{\\left(\\sqrt{x - 2} \\right)} + 1\\right)}{8 \\left(x - 2\\right)^{\\frac{5}{2}}} + \\frac{2}{x^{3}}$"
      ],
      "text/plain": [
       "-64*sin(2*x)*cos(2*x) + 3*(tan(sqrt(x - 2))**2 + 1)*tan(sqrt(x - 2))/(4*(x - 2)**2) - (tan(sqrt(x - 2))**2 + 1)**2/(4*(x - 2)**(3/2)) - (tan(sqrt(x - 2))**2 + 1)*tan(sqrt(x - 2))**2/(2*(x - 2)**(3/2)) - 3*(tan(sqrt(x - 2))**2 + 1)/(8*(x - 2)**(5/2)) + 2/x**3"
      ]
     },
     "execution_count": 32,
     "metadata": {},
     "output_type": "execute_result"
    }
   ],
   "source": [
    "diff(func, x, 3)"
   ]
  },
  {
   "cell_type": "markdown",
   "id": "a531fa63",
   "metadata": {},
   "source": [
    "<hr></hr>\n",
    "$$\n",
    "  y = \\sin{(-2x)}\n",
    "$$"
   ]
  },
  {
   "cell_type": "code",
   "execution_count": 34,
   "id": "a67a7372",
   "metadata": {},
   "outputs": [
    {
     "data": {
      "text/latex": [
       "$\\displaystyle - 2 \\cos{\\left(2 x \\right)}$"
      ],
      "text/plain": [
       "-2*cos(2*x)"
      ]
     },
     "execution_count": 34,
     "metadata": {},
     "output_type": "execute_result"
    }
   ],
   "source": [
    "func = sin(-2 * x)\n",
    "diff(func, x)"
   ]
  },
  {
   "cell_type": "code",
   "execution_count": 35,
   "id": "97d0503e",
   "metadata": {},
   "outputs": [
    {
     "data": {
      "text/latex": [
       "$\\displaystyle 4 \\sin{\\left(2 x \\right)}$"
      ],
      "text/plain": [
       "4*sin(2*x)"
      ]
     },
     "execution_count": 35,
     "metadata": {},
     "output_type": "execute_result"
    }
   ],
   "source": [
    "diff(func, x, 2)"
   ]
  },
  {
   "cell_type": "code",
   "execution_count": 36,
   "id": "e2944843",
   "metadata": {},
   "outputs": [
    {
     "data": {
      "text/latex": [
       "$\\displaystyle 8 \\cos{\\left(2 x \\right)}$"
      ],
      "text/plain": [
       "8*cos(2*x)"
      ]
     },
     "execution_count": 36,
     "metadata": {},
     "output_type": "execute_result"
    }
   ],
   "source": [
    "diff(func, x, 3)"
   ]
  },
  {
   "cell_type": "markdown",
   "id": "105f27f4",
   "metadata": {},
   "source": [
    "<hr></hr>\n",
    "$$\n",
    "    u = \\sqrt{x^2 + y^2}\n",
    "$$"
   ]
  },
  {
   "cell_type": "code",
   "execution_count": 46,
   "id": "8346d9be",
   "metadata": {},
   "outputs": [
    {
     "data": {
      "text/latex": [
       "$\\displaystyle \\frac{x}{\\sqrt{x^{2} + y^{2}}}$"
      ],
      "text/plain": [
       "x/sqrt(x**2 + y**2)"
      ]
     },
     "execution_count": 46,
     "metadata": {},
     "output_type": "execute_result"
    }
   ],
   "source": [
    "func = sqrt(x ** 2 + y ** 2)\n",
    "diff(func, x)"
   ]
  },
  {
   "cell_type": "code",
   "execution_count": 47,
   "id": "584d38c4",
   "metadata": {},
   "outputs": [
    {
     "data": {
      "text/latex": [
       "$\\displaystyle \\frac{- \\frac{x^{2}}{x^{2} + y^{2}} + 1}{\\sqrt{x^{2} + y^{2}}}$"
      ],
      "text/plain": [
       "(-x**2/(x**2 + y**2) + 1)/sqrt(x**2 + y**2)"
      ]
     },
     "execution_count": 47,
     "metadata": {},
     "output_type": "execute_result"
    }
   ],
   "source": [
    "diff(func, x, 2)"
   ]
  },
  {
   "cell_type": "code",
   "execution_count": 48,
   "id": "ea77d01e",
   "metadata": {},
   "outputs": [
    {
     "data": {
      "text/latex": [
       "$\\displaystyle \\frac{3 x \\left(\\frac{x^{2}}{x^{2} + y^{2}} - 1\\right)}{\\left(x^{2} + y^{2}\\right)^{\\frac{3}{2}}}$"
      ],
      "text/plain": [
       "3*x*(x**2/(x**2 + y**2) - 1)/(x**2 + y**2)**(3/2)"
      ]
     },
     "execution_count": 48,
     "metadata": {},
     "output_type": "execute_result"
    }
   ],
   "source": [
    "diff(func, x, 3)"
   ]
  },
  {
   "cell_type": "code",
   "execution_count": 49,
   "id": "b06213fd",
   "metadata": {},
   "outputs": [
    {
     "data": {
      "text/latex": [
       "$\\displaystyle \\frac{y}{\\sqrt{x^{2} + y^{2}}}$"
      ],
      "text/plain": [
       "y/sqrt(x**2 + y**2)"
      ]
     },
     "execution_count": 49,
     "metadata": {},
     "output_type": "execute_result"
    }
   ],
   "source": [
    "diff(func, y)"
   ]
  },
  {
   "cell_type": "code",
   "execution_count": 50,
   "id": "973bed62",
   "metadata": {},
   "outputs": [
    {
     "data": {
      "text/latex": [
       "$\\displaystyle \\frac{- \\frac{y^{2}}{x^{2} + y^{2}} + 1}{\\sqrt{x^{2} + y^{2}}}$"
      ],
      "text/plain": [
       "(-y**2/(x**2 + y**2) + 1)/sqrt(x**2 + y**2)"
      ]
     },
     "execution_count": 50,
     "metadata": {},
     "output_type": "execute_result"
    }
   ],
   "source": [
    "diff(func, y, 2)"
   ]
  },
  {
   "cell_type": "code",
   "execution_count": 51,
   "id": "3b5eb143",
   "metadata": {},
   "outputs": [
    {
     "data": {
      "text/latex": [
       "$\\displaystyle \\frac{3 y \\left(\\frac{y^{2}}{x^{2} + y^{2}} - 1\\right)}{\\left(x^{2} + y^{2}\\right)^{\\frac{3}{2}}}$"
      ],
      "text/plain": [
       "3*y*(y**2/(x**2 + y**2) - 1)/(x**2 + y**2)**(3/2)"
      ]
     },
     "execution_count": 51,
     "metadata": {},
     "output_type": "execute_result"
    }
   ],
   "source": [
    "diff(func, y, 3)"
   ]
  },
  {
   "cell_type": "markdown",
   "id": "00bfba09",
   "metadata": {},
   "source": [
    "<p>3. Знайти значення інтеграла (невизначеного, визначеного, невласного):</p>\n",
    "$$\n",
    "    \\int{\\frac{(x^3 - 6)dx}{x^4 + 6x^2 + 8}}\n",
    "$$"
   ]
  },
  {
   "cell_type": "code",
   "execution_count": 52,
   "id": "b5e6b99b",
   "metadata": {},
   "outputs": [
    {
     "data": {
      "text/latex": [
       "$\\displaystyle \\frac{5 \\operatorname{atan}{\\left(\\frac{x}{2} \\right)}}{2} - 2 \\sqrt{2} \\operatorname{atan}{\\left(\\frac{\\sqrt{2} x}{2} \\right)}$"
      ],
      "text/plain": [
       "5*atan(x/2)/2 - 2*sqrt(2)*atan(sqrt(2)*x/2)"
      ]
     },
     "execution_count": 52,
     "metadata": {},
     "output_type": "execute_result"
    }
   ],
   "source": [
    "func = (x ** 2 - 6) / (x ** 4 + 6 * x ** 2 + 8)\n",
    "integrate(func, x)"
   ]
  },
  {
   "cell_type": "markdown",
   "id": "e8547da9",
   "metadata": {},
   "source": [
    "<hr></hr>\n",
    "$$\n",
    "    \\int_{0}^{\\pi/2}{x^3 \\cos{x}dx}\n",
    "$$"
   ]
  },
  {
   "cell_type": "code",
   "execution_count": 53,
   "id": "e32dae25",
   "metadata": {},
   "outputs": [
    {
     "data": {
      "text/latex": [
       "$\\displaystyle - 3 \\pi + \\frac{\\pi^{3}}{8} + 6$"
      ],
      "text/plain": [
       "-3*pi + pi**3/8 + 6"
      ]
     },
     "execution_count": 53,
     "metadata": {},
     "output_type": "execute_result"
    }
   ],
   "source": [
    "func = x ** 3 * cos(x)\n",
    "integrate(func, (x, 0, pi/2))"
   ]
  },
  {
   "cell_type": "markdown",
   "id": "1259a082",
   "metadata": {},
   "source": [
    "<hr></hr>\n",
    "$$\n",
    "    \\int_{0}^{+\\infty}{\\frac{1-e^{-2x^2}}{x e^{x^2}}}dx\n",
    "$$"
   ]
  },
  {
   "cell_type": "code",
   "execution_count": 56,
   "id": "fb74e030",
   "metadata": {},
   "outputs": [
    {
     "data": {
      "text/latex": [
       "$\\displaystyle \\frac{\\log{\\left(3 \\right)}}{2}$"
      ],
      "text/plain": [
       "log(3)/2"
      ]
     },
     "execution_count": 56,
     "metadata": {},
     "output_type": "execute_result"
    }
   ],
   "source": [
    "func = (1 - exp(-2 * x ** 2)) / (x * exp(x ** 2))\n",
    "integrate(func, (x, 0, +oo))"
   ]
  },
  {
   "cell_type": "markdown",
   "id": "3427de7d",
   "metadata": {},
   "source": [
    "<p>4. Для матриць</p>\n",
    "$$\n",
    "    A = \n",
    "    \\begin{pmatrix}\n",
    "        2 & 4 & 2 \\\\\n",
    "        -6 & 22 & 9 \\\\\n",
    "        -3 & 23 & -2\n",
    "    \\end{pmatrix};\n",
    "    B = \n",
    "    \\begin{pmatrix}\n",
    "        -9 & -4 & -8 \\\\\n",
    "        1 & 9 & 1 \\\\\n",
    "        6 & 4 & 9\n",
    "    \\end{pmatrix}\n",
    "$$\n",
    "<p align='left'>\n",
    "    1) <i>AB</i>;\n",
    "    2) <i>BA</i>;\n",
    "    3) 4<i>A</i> - 9<i>B</i>;\n",
    "    4) det<i>A</i> та det<i>B</i>;\n",
    "    5) <i>A<sup>-1</sup></i> та <i>B<sup>-1</sup></i>;\n",
    "</p>"
   ]
  },
  {
   "cell_type": "code",
   "execution_count": 58,
   "id": "b2d2ca20",
   "metadata": {},
   "outputs": [],
   "source": [
    "A = Matrix(\n",
    "    [\n",
    "        [2, 4, 2],\n",
    "        [-6, 22, 9],\n",
    "        [-3, 23, -2]\n",
    "    ]\n",
    ")\n",
    "B = Matrix(\n",
    "    [\n",
    "        [-9, -4, -8],\n",
    "        [1, 9, 1],\n",
    "        [6, 4, 9]\n",
    "    ]\n",
    ")"
   ]
  },
  {
   "cell_type": "code",
   "execution_count": 60,
   "id": "5b7eb08e",
   "metadata": {},
   "outputs": [
    {
     "data": {
      "text/latex": [
       "$\\displaystyle \\left[\\begin{matrix}-2 & 36 & 6\\\\130 & 258 & 151\\\\38 & 211 & 29\\end{matrix}\\right]$"
      ],
      "text/plain": [
       "Matrix([\n",
       "[ -2,  36,   6],\n",
       "[130, 258, 151],\n",
       "[ 38, 211,  29]])"
      ]
     },
     "execution_count": 60,
     "metadata": {},
     "output_type": "execute_result"
    }
   ],
   "source": [
    "# AB\n",
    "A * B"
   ]
  },
  {
   "cell_type": "code",
   "execution_count": 61,
   "id": "64a835cf",
   "metadata": {},
   "outputs": [
    {
     "data": {
      "text/latex": [
       "$\\displaystyle \\left[\\begin{matrix}30 & -308 & -38\\\\-55 & 225 & 81\\\\-39 & 319 & 30\\end{matrix}\\right]$"
      ],
      "text/plain": [
       "Matrix([\n",
       "[ 30, -308, -38],\n",
       "[-55,  225,  81],\n",
       "[-39,  319,  30]])"
      ]
     },
     "execution_count": 61,
     "metadata": {},
     "output_type": "execute_result"
    }
   ],
   "source": [
    "# BA\n",
    "B * A"
   ]
  },
  {
   "cell_type": "code",
   "execution_count": 62,
   "id": "e4304ec9",
   "metadata": {},
   "outputs": [
    {
     "data": {
      "text/latex": [
       "$\\displaystyle \\left[\\begin{matrix}89 & 52 & 80\\\\-33 & 7 & 27\\\\-66 & 56 & -89\\end{matrix}\\right]$"
      ],
      "text/plain": [
       "Matrix([\n",
       "[ 89, 52,  80],\n",
       "[-33,  7,  27],\n",
       "[-66, 56, -89]])"
      ]
     },
     "execution_count": 62,
     "metadata": {},
     "output_type": "execute_result"
    }
   ],
   "source": [
    "# 4A - 9B\n",
    "4 * A - 9 * B"
   ]
  },
  {
   "cell_type": "code",
   "execution_count": 63,
   "id": "18eec36f",
   "metadata": {},
   "outputs": [
    {
     "data": {
      "text/latex": [
       "$\\displaystyle -802$"
      ],
      "text/plain": [
       "-802"
      ]
     },
     "execution_count": 63,
     "metadata": {},
     "output_type": "execute_result"
    }
   ],
   "source": [
    "# det A\n",
    "det(A)"
   ]
  },
  {
   "cell_type": "code",
   "execution_count": 64,
   "id": "e72eb45f",
   "metadata": {},
   "outputs": [
    {
     "data": {
      "text/latex": [
       "$\\displaystyle -281$"
      ],
      "text/plain": [
       "-281"
      ]
     },
     "execution_count": 64,
     "metadata": {},
     "output_type": "execute_result"
    }
   ],
   "source": [
    "# det B\n",
    "det(B)"
   ]
  },
  {
   "cell_type": "code",
   "execution_count": 68,
   "id": "1d17bf23",
   "metadata": {},
   "outputs": [
    {
     "data": {
      "text/latex": [
       "$\\displaystyle \\left[\\begin{matrix}2 & -6 & -3\\\\4 & 22 & 23\\\\2 & 9 & -2\\end{matrix}\\right]$"
      ],
      "text/plain": [
       "Matrix([\n",
       "[2, -6, -3],\n",
       "[4, 22, 23],\n",
       "[2,  9, -2]])"
      ]
     },
     "execution_count": 68,
     "metadata": {},
     "output_type": "execute_result"
    }
   ],
   "source": [
    "# A ^ (-1)\n",
    "transpose(A)"
   ]
  },
  {
   "cell_type": "code",
   "execution_count": 69,
   "id": "dcf46e65",
   "metadata": {},
   "outputs": [
    {
     "data": {
      "text/latex": [
       "$\\displaystyle \\left[\\begin{matrix}-9 & 1 & 6\\\\-4 & 9 & 4\\\\-8 & 1 & 9\\end{matrix}\\right]$"
      ],
      "text/plain": [
       "Matrix([\n",
       "[-9, 1, 6],\n",
       "[-4, 9, 4],\n",
       "[-8, 1, 9]])"
      ]
     },
     "execution_count": 69,
     "metadata": {},
     "output_type": "execute_result"
    }
   ],
   "source": [
    "# B ^ (-1)\n",
    "transpose(B)"
   ]
  },
  {
   "cell_type": "markdown",
   "id": "01d7e365",
   "metadata": {},
   "source": [
    "<p>5. Побудувати графіки функцій у декартовій системі координат:</p>\n",
    "$$\n",
    "    y = 8x^2 (x^2 - 1)^3\n",
    "$$"
   ]
  },
  {
   "cell_type": "code",
   "execution_count": 104,
   "id": "5cb2b091",
   "metadata": {},
   "outputs": [
    {
     "data": {
      "image/png": "[encoded data removed]",
      "text/plain": [
       "<Figure size 432x288 with 1 Axes>"
      ]
     },
     "metadata": {
      "needs_background": "light"
     },
     "output_type": "display_data"
    },
    {
     "data": {
      "text/plain": [
       "<sympy.plotting.plot.Plot at 0x7ff3d0460760>"
      ]
     },
     "execution_count": 104,
     "metadata": {},
     "output_type": "execute_result"
    }
   ],
   "source": [
    "func = 8 * x ** 2 * (x ** 2 - 1) ** 3\n",
    "plot(func, (x, -20, 20))"
   ]
  },
  {
   "cell_type": "markdown",
   "id": "9b83c84b",
   "metadata": {},
   "source": [
    "<hr></hr>\n",
    "$$\n",
    "    y = \\frac{x}{2} - \\arccos{\\frac{2x}{1+x^2}}\n",
    "$$"
   ]
  },
  {
   "cell_type": "code",
   "execution_count": 106,
   "id": "abdbf150",
   "metadata": {},
   "outputs": [
    {
     "data": {
      "image/png": "[encoded data removed]",
      "text/plain": [
       "<Figure size 432x288 with 1 Axes>"
      ]
     },
     "metadata": {
      "needs_background": "light"
     },
     "output_type": "display_data"
    },
    {
     "data": {
      "text/plain": [
       "<sympy.plotting.plot.Plot at 0x7ff3e2252070>"
      ]
     },
     "execution_count": 106,
     "metadata": {},
     "output_type": "execute_result"
    }
   ],
   "source": [
    "func = x / 2 - acos((2 * x) / (1 + x ** 2))\n",
    "plot(func, (x, -5, 5))"
   ]
  }
 ],
 "metadata": {
  "kernelspec": {
   "display_name": "Python 3 (ipykernel)",
   "language": "python",
   "name": "python3"
  },
  "language_info": {
   "codemirror_mode": {
    "name": "ipython",
    "version": 3
   },
   "file_extension": ".py",
   "mimetype": "text/x-python",
   "name": "python",
   "nbconvert_exporter": "python",
   "pygments_lexer": "ipython3",
   "version": "3.8.10"
  }
 },
 "nbformat": 4,
 "nbformat_minor": 5
}
