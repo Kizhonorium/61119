{
 "cells": [
  {
   "cell_type": "markdown",
   "id": "5b3f1d8e",
   "metadata": {},
   "source": [
    "<p align=\"center\"><strong>Лабораторна робота № 1</strong></p>\n",
    "<p>вариант 4</p>\n",
    "<p>З клавіатури вводяться 𝑟 і 𝑅. Вивести на екран об’єм тора з внутрішнім\n",
    "радіусом 𝑟 і зовнішнім радіусом 𝑅, використовуючи оператор %.</p>"
   ]
  },
  {
   "cell_type": "code",
   "execution_count": 7,
   "id": "7a84e202",
   "metadata": {},
   "outputs": [
    {
     "name": "stdout",
     "output_type": "stream",
     "text": [
      "Enter parameter r: 5\n",
      "Enter parameter R: 45\n",
      "V = 22206.609902\n"
     ]
    }
   ],
   "source": [
    "from math import pi\n",
    "\n",
    "r = int(input(\"Enter parameter r: \"))\n",
    "R = int(input(\"Enter parameter R: \"))\n",
    "print(\"V = %f\" % (2 * pi ** 2 * R * r ** 2))"
   ]
  },
  {
   "cell_type": "code",
   "execution_count": null,
   "id": "70a2b771",
   "metadata": {},
   "outputs": [],
   "source": []
  }
 ],
 "metadata": {
  "kernelspec": {
   "display_name": "Python 3 (ipykernel)",
   "language": "python",
   "name": "python3"
  },
  "language_info": {
   "codemirror_mode": {
    "name": "ipython",
    "version": 3
   },
   "file_extension": ".py",
   "mimetype": "text/x-python",
   "name": "python",
   "nbconvert_exporter": "python",
   "pygments_lexer": "ipython3",
   "version": "3.8.4rc1"
  }
 },
 "nbformat": 4,
 "nbformat_minor": 5
}
