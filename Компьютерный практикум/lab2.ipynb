{
 "cells": [
  {
   "cell_type": "markdown",
   "id": "3e0ce365",
   "metadata": {},
   "source": [
    "<p>Лабораторна робота № 2</p>\n",
    "<p>варіант 4</p>\n",
    "<p>З клавіатури вводяться координати чотирьох точок з простору ℝ2:\n",
    "𝐴(𝑥1; 𝑦1), 𝐵(𝑥2; 𝑦2), 𝐶(𝑥3; 𝑦3), 𝐷(𝑥4; 𝑦4) – координати вершин квадрата\n",
    "та точка 𝐸(𝑥5; 𝑦5). Перевірити чи належить точка 𝐸 квадрату 𝐴𝐵𝐶𝐷.</p>"
   ]
  },
  {
   "cell_type": "code",
   "execution_count": 60,
   "id": "652ca9dc",
   "metadata": {},
   "outputs": [],
   "source": [
    "from math import sqrt\n",
    "\n",
    "def is_square(sides_square: tuple) -> bool:\n",
    "    if not len(sides_square):\n",
    "        raise Exception(\"Invalid arguments\")\n",
    "    if len(sides_square) != 4:\n",
    "        raise Exception(\"Length arguments is not 4\")\n",
    "    return sum(sides_square) % 4 == 0\n",
    "\n",
    "def get_length(first_point: tuple, second_point: tuple) -> float:\n",
    "    if not all([len(first_point), len(second_point)]):\n",
    "        raise Exception(\"Is not arguments\")\n",
    "    return sqrt(sum((num2 - num1) ** 2 for num1, num2 in zip(first_point, second_point)))\n",
    "\n",
    "# input points\n",
    "point_square = [\n",
    "    (\n",
    "        i for i in (int(input(f\"Enter {symbol}{number}: \"))\n",
    "        for symbol, number in zip((\"x\", \"y\"), (1, 2)))\n",
    "    )\n",
    "    for _ in range(5)\n",
    "]\n",
    "a = point_square"
   ]
  },
  {
   "cell_type": "markdown",
   "id": "afb7829a",
   "metadata": {},
   "source": [
    "## "
   ]
  }
 ],
 "metadata": {
  "kernelspec": {
   "display_name": "Python 3 (ipykernel)",
   "language": "python",
   "name": "python3"
  },
  "language_info": {
   "codemirror_mode": {
    "name": "ipython",
    "version": 3
   },
   "file_extension": ".py",
   "mimetype": "text/x-python",
   "name": "python",
   "nbconvert_exporter": "python",
   "pygments_lexer": "ipython3",
   "version": "3.8.4rc1"
  }
 },
 "nbformat": 4,
 "nbformat_minor": 5
}
