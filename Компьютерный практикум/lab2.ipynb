{
 "cells": [
  {
   "cell_type": "markdown",
   "id": "3e0ce365",
   "metadata": {},
   "source": [
    "<p>Лабораторна робота № 2</p>\n",
    "<p>варіант 4</p>\n",
    "<p>З клавіатури вводяться координати чотирьох точок з простору ℝ2:\n",
    "𝐴(𝑥1; 𝑦1), 𝐵(𝑥2; 𝑦2), 𝐶(𝑥3; 𝑦3), 𝐷(𝑥4; 𝑦4) – координати вершин квадрата\n",
    "та точка 𝐸(𝑥5; 𝑦5). Перевірити чи належить точка 𝐸 квадрату 𝐴𝐵𝐶𝐷.</p>"
   ]
  },
  {
   "cell_type": "code",
   "execution_count": 67,
   "id": "652ca9dc",
   "metadata": {},
   "outputs": [],
   "source": [
    "from math import sqrt\n",
    "\n",
    "import matplotlib.pyplot as plt "
   ]
  },
  {
   "cell_type": "code",
   "execution_count": 126,
   "id": "fd0918df",
   "metadata": {},
   "outputs": [
    {
     "name": "stdout",
     "output_type": "stream",
     "text": [
      "Point in square\n",
      "Point in square\n",
      "Point is not in square\n",
      "Point is not in square\n",
      "Point is not in square\n"
     ]
    },
    {
     "data": {
      "image/png": "[encoded data removed]",
      "text/plain": [
       "<Figure size 432x288 with 1 Axes>"
      ]
     },
     "metadata": {
      "needs_background": "light"
     },
     "output_type": "display_data"
    }
   ],
   "source": [
    "def is_square(sides_square: tuple) -> bool:\n",
    "    if not len(sides_square):\n",
    "        raise Exception(\"Invalid arguments\")\n",
    "    if len(sides_square) != 4:\n",
    "        raise Exception(\"Length arguments is not 4\")\n",
    "    return sum(sides_square) % sides_square[0] == 0\n",
    "\n",
    "def get_length(first_point: tuple, second_point: tuple) -> float:\n",
    "    if not all([len(first_point), len(second_point)]):\n",
    "        raise Exception(\"Is not arguments\")\n",
    "    return sqrt(sum((num2 - num1) ** 2 for num1, num2 in zip(first_point, second_point)))\n",
    "\n",
    "# input points\n",
    "# A = tuple(map(int, input(\"Enter x and y: \").split()))\n",
    "# B = tuple(map(int, input(\"Enter x and y: \").split()))\n",
    "# C = tuple(map(int, input(\"Enter x and y: \").split()))\n",
    "# D = tuple(map(int, input(\"Enter x and y: \").split()))\n",
    "# E = tuple(map(int, input(\"Enter x and y: \").split()))\n",
    "A = (1, 4)\n",
    "B = (4, 7)\n",
    "C = (7, 4)\n",
    "D = (4, 1)\n",
    "AB = get_length(A, B)\n",
    "BC = get_length(B, C)\n",
    "CD = get_length(C, D)\n",
    "DA = get_length(D, A)\n",
    "E1 = (4, 3)\n",
    "E2 = (1, 4)\n",
    "E3 = (2, 2)\n",
    "E4 = (6, 2)\n",
    "E5 = (-1, 0)\n",
    "\n",
    "for point in (E1, E2, E3, E4, E5):\n",
    "    if is_square((AB, BC, CD, DA)):\n",
    "        if all(\n",
    "            [\n",
    "                sum(point) >= sum(A), \n",
    "                sum(point) <= sum(C), \n",
    "                (point[0] - point[1]) >= (B[0] - B[1]),\n",
    "                (point[0] - point[1]) <= (D[0] - D[1])\n",
    "            ]):\n",
    "            print(\"Point in square\")\n",
    "        else:\n",
    "            print(\"Point is not in square\")\n",
    "    else:\n",
    "        raise Exception(\"Is no square!\")\n",
    "\n",
    "plt.plot([_[0] for _ in (A, B, C, D, A)], [_[1] for _ in (A, B, C, D, A)])\n",
    "plt.plot(E1[0], E1[1], marker=\"o\", c=\"g\")\n",
    "plt.plot(E2[0], E2[1], marker=\"o\", c=\"c\")\n",
    "plt.plot(E3[0], E3[1], marker=\"o\", c=\"y\")\n",
    "plt.plot(E4[0], E4[1], marker=\"o\", c=\"b\")\n",
    "plt.plot(E5[0], E5[1], marker=\"o\", c=\"r\")\n",
    "plt.show()\n"
   ]
  },
  {
   "cell_type": "code",
   "execution_count": null,
   "id": "14e5f690",
   "metadata": {},
   "outputs": [],
   "source": []
  }
 ],
 "metadata": {
  "kernelspec": {
   "display_name": "Python 3 (ipykernel)",
   "language": "python",
   "name": "python3"
  },
  "language_info": {
   "codemirror_mode": {
    "name": "ipython",
    "version": 3
   },
   "file_extension": ".py",
   "mimetype": "text/x-python",
   "name": "python",
   "nbconvert_exporter": "python",
   "pygments_lexer": "ipython3",
   "version": "3.8.4rc1"
  }
 },
 "nbformat": 4,
 "nbformat_minor": 5
}
