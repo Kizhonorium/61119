{
 "cells": [
  {
   "cell_type": "markdown",
   "id": "7e4e47d5",
   "metadata": {},
   "source": [
    "<p>Лабораторна робота № 3</p>\n",
    "<p>варіант 4</p>"
   ]
  },
  {
   "cell_type": "code",
   "execution_count": 1,
   "id": "119762d2",
   "metadata": {},
   "outputs": [
    {
     "name": "stdout",
     "output_type": "stream",
     "text": [
      "Enter number row: 10\n",
      "Enter number column: 10\n",
      "Matrix: [[-9, -10, -8, 9, 3, -3, 3, 8, 1, 10], [7, -3, -2, -7, -8, 6, 1, 6, 2, -8], [-9, 5, 4, -9, -4, -6, -9, -2, -2, -6], [-6, 6, -9, 0, 4, 0, -2, 6, 5, -8], [10, 3, 7, -10, 10, -2, 2, 2, 3, 1], [-6, 3, 4, 4, 2, -2, -7, 9, 1, -7], [10, 7, -3, -6, 8, -6, 3, 4, -1, -3], [6, 1, -6, 3, 0, -3, 7, -2, 9, -3], [-9, 10, -5, -7, 8, -10, 1, -4, 1, 0], [0, 7, -1, -7, 4, -8, 4, -4, 3, -9]]\n"
     ]
    }
   ],
   "source": [
    "# написати програму для обчислення кількості ненульових єлементів матриці\n",
    "import random\n",
    "\n",
    "number_row = int(input(\"Enter number row: \"))\n",
    "number_col = int(input(\"Enter number column: \"))\n",
    "matrix = [[random.randint(-10, 10) for i in range(number_col)] for j in range(number_row)]\n",
    "print(f\"Matrix: {matrix}\")"
   ]
  },
  {
   "cell_type": "code",
   "execution_count": 2,
   "id": "e8462a06",
   "metadata": {},
   "outputs": [
    {
     "name": "stdout",
     "output_type": "stream",
     "text": [
      "Number no zero element matrix: 5\n"
     ]
    }
   ],
   "source": [
    "number_no_zero_element = sum(1 for i in range(number_row) for j in range(number_col) if not matrix[i][j])\n",
    "print(f\"Number no zero element matrix: {number_no_zero_element}\")"
   ]
  },
  {
   "cell_type": "code",
   "execution_count": 6,
   "id": "a9d229b5",
   "metadata": {},
   "outputs": [
    {
     "name": "stdout",
     "output_type": "stream",
     "text": [
      "ln(2)=0.6926474305598223\n",
      "Проверка: 0.6931471805599453\n"
     ]
    }
   ],
   "source": [
    "import math\n",
    "\n",
    "\n",
    "# написати програму для наближеного обчислення ln2\n",
    "# воспользуется так назывемым рядом Меркатора\n",
    "# ln(1+x)=x/1 - x^2 / 2 + x^3 / 3.....\n",
    "# к примеру вычислим вплоть до 1000 слагаемого\n",
    "print(f\"ln(2)={sum((1 / i) * (-1) ** (i+1) for i in range(1, 1001))}\")\n",
    "print(f\"Проверка: {math.log(2)}\")"
   ]
  },
  {
   "cell_type": "code",
   "execution_count": null,
   "id": "315cc68d",
   "metadata": {},
   "outputs": [],
   "source": []
  }
 ],
 "metadata": {
  "kernelspec": {
   "display_name": "Python 3 (ipykernel)",
   "language": "python",
   "name": "python3"
  },
  "language_info": {
   "codemirror_mode": {
    "name": "ipython",
    "version": 3
   },
   "file_extension": ".py",
   "mimetype": "text/x-python",
   "name": "python",
   "nbconvert_exporter": "python",
   "pygments_lexer": "ipython3",
   "version": "3.8.4rc1"
  }
 },
 "nbformat": 4,
 "nbformat_minor": 5
}
