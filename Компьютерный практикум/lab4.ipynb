{
 "cells": [
  {
   "cell_type": "markdown",
   "id": "a3ea6b84",
   "metadata": {},
   "source": [
    "<p>Лабораторна робота № 4</p>\n",
    "<p>варіант 4</p>"
   ]
  },
  {
   "cell_type": "code",
   "execution_count": 23,
   "id": "18fa6d7b",
   "metadata": {},
   "outputs": [
    {
     "name": "stdout",
     "output_type": "stream",
     "text": [
      "Collecting ipyturtle\n",
      "  Downloading ipyturtle-0.2.4-py2.py3-none-any.whl (427 kB)\n",
      "Requirement already satisfied: ipywidgets>=7.0.0 in c:\\users\\polos\\appdata\\local\\programs\\python\\python38\\lib\\site-packages (from ipyturtle) (7.6.5)\n",
      "Requirement already satisfied: nbformat>=4.2.0 in c:\\users\\polos\\appdata\\local\\programs\\python\\python38\\lib\\site-packages (from ipywidgets>=7.0.0->ipyturtle) (5.1.3)\n",
      "Requirement already satisfied: traitlets>=4.3.1 in c:\\users\\polos\\appdata\\local\\programs\\python\\python38\\lib\\site-packages (from ipywidgets>=7.0.0->ipyturtle) (5.0.5)\n",
      "Requirement already satisfied: ipykernel>=4.5.1 in c:\\users\\polos\\appdata\\local\\programs\\python\\python38\\lib\\site-packages (from ipywidgets>=7.0.0->ipyturtle) (6.4.1)\n",
      "Requirement already satisfied: ipython-genutils~=0.2.0 in c:\\users\\polos\\appdata\\local\\programs\\python\\python38\\lib\\site-packages (from ipywidgets>=7.0.0->ipyturtle) (0.2.0)\n",
      "Requirement already satisfied: jupyterlab-widgets>=1.0.0 in c:\\users\\polos\\appdata\\local\\programs\\python\\python38\\lib\\site-packages (from ipywidgets>=7.0.0->ipyturtle) (1.0.2)\n",
      "Requirement already satisfied: ipython>=4.0.0 in c:\\users\\polos\\appdata\\local\\programs\\python\\python38\\lib\\site-packages (from ipywidgets>=7.0.0->ipyturtle) (7.24.1)\n",
      "Requirement already satisfied: widgetsnbextension~=3.5.0 in c:\\users\\polos\\appdata\\local\\programs\\python\\python38\\lib\\site-packages (from ipywidgets>=7.0.0->ipyturtle) (3.5.1)\n",
      "Requirement already satisfied: debugpy<2.0,>=1.0.0 in c:\\users\\polos\\appdata\\local\\programs\\python\\python38\\lib\\site-packages (from ipykernel>=4.5.1->ipywidgets>=7.0.0->ipyturtle) (1.4.3)\n",
      "Requirement already satisfied: tornado<7.0,>=4.2 in c:\\users\\polos\\appdata\\local\\programs\\python\\python38\\lib\\site-packages (from ipykernel>=4.5.1->ipywidgets>=7.0.0->ipyturtle) (6.1)\n",
      "Requirement already satisfied: jupyter-client<8.0 in c:\\users\\polos\\appdata\\local\\programs\\python\\python38\\lib\\site-packages (from ipykernel>=4.5.1->ipywidgets>=7.0.0->ipyturtle) (7.0.3)\n",
      "Requirement already satisfied: matplotlib-inline<0.2.0,>=0.1.0 in c:\\users\\polos\\appdata\\local\\programs\\python\\python38\\lib\\site-packages (from ipykernel>=4.5.1->ipywidgets>=7.0.0->ipyturtle) (0.1.2)\n",
      "Requirement already satisfied: prompt-toolkit!=3.0.0,!=3.0.1,<3.1.0,>=2.0.0 in c:\\users\\polos\\appdata\\local\\programs\\python\\python38\\lib\\site-packages (from ipython>=4.0.0->ipywidgets>=7.0.0->ipyturtle) (2.0.10)\n",
      "Requirement already satisfied: pygments in c:\\users\\polos\\appdata\\local\\programs\\python\\python38\\lib\\site-packages (from ipython>=4.0.0->ipywidgets>=7.0.0->ipyturtle) (2.7.3)\n",
      "Requirement already satisfied: colorama in c:\\users\\polos\\appdata\\local\\programs\\python\\python38\\lib\\site-packages (from ipython>=4.0.0->ipywidgets>=7.0.0->ipyturtle) (0.4.3)\n",
      "Requirement already satisfied: decorator in c:\\users\\polos\\appdata\\local\\programs\\python\\python38\\lib\\site-packages (from ipython>=4.0.0->ipywidgets>=7.0.0->ipyturtle) (4.4.2)\n",
      "Requirement already satisfied: jedi>=0.16 in c:\\users\\polos\\appdata\\local\\programs\\python\\python38\\lib\\site-packages (from ipython>=4.0.0->ipywidgets>=7.0.0->ipyturtle) (0.18.0)\n",
      "Requirement already satisfied: pickleshare in c:\\users\\polos\\appdata\\local\\programs\\python\\python38\\lib\\site-packages (from ipython>=4.0.0->ipywidgets>=7.0.0->ipyturtle) (0.7.5)\n",
      "Requirement already satisfied: setuptools>=18.5 in c:\\users\\polos\\appdata\\local\\programs\\python\\python38\\lib\\site-packages (from ipython>=4.0.0->ipywidgets>=7.0.0->ipyturtle) (51.0.0)\n",
      "Requirement already satisfied: backcall in c:\\users\\polos\\appdata\\local\\programs\\python\\python38\\lib\\site-packages (from ipython>=4.0.0->ipywidgets>=7.0.0->ipyturtle) (0.2.0)\n",
      "Requirement already satisfied: jupyter-core in c:\\users\\polos\\appdata\\local\\programs\\python\\python38\\lib\\site-packages (from nbformat>=4.2.0->ipywidgets>=7.0.0->ipyturtle) (4.8.1)\n",
      "Requirement already satisfied: jsonschema!=2.5.0,>=2.4 in c:\\users\\polos\\appdata\\local\\programs\\python\\python38\\lib\\site-packages (from nbformat>=4.2.0->ipywidgets>=7.0.0->ipyturtle) (3.2.0)\n",
      "Requirement already satisfied: notebook>=4.4.1 in c:\\users\\polos\\appdata\\local\\programs\\python\\python38\\lib\\site-packages (from widgetsnbextension~=3.5.0->ipywidgets>=7.0.0->ipyturtle) (6.4.4)\n",
      "Requirement already satisfied: parso<0.9.0,>=0.8.0 in c:\\users\\polos\\appdata\\local\\programs\\python\\python38\\lib\\site-packages (from jedi>=0.16->ipython>=4.0.0->ipywidgets>=7.0.0->ipyturtle) (0.8.2)\n",
      "Requirement already satisfied: attrs>=17.4.0 in c:\\users\\polos\\appdata\\local\\programs\\python\\python38\\lib\\site-packages (from jsonschema!=2.5.0,>=2.4->nbformat>=4.2.0->ipywidgets>=7.0.0->ipyturtle) (20.3.0)\n",
      "Requirement already satisfied: six>=1.11.0 in c:\\users\\polos\\appdata\\local\\programs\\python\\python38\\lib\\site-packages (from jsonschema!=2.5.0,>=2.4->nbformat>=4.2.0->ipywidgets>=7.0.0->ipyturtle) (1.15.0)\n",
      "Requirement already satisfied: pyrsistent>=0.14.0 in c:\\users\\polos\\appdata\\local\\programs\\python\\python38\\lib\\site-packages (from jsonschema!=2.5.0,>=2.4->nbformat>=4.2.0->ipywidgets>=7.0.0->ipyturtle) (0.18.0)\n",
      "Requirement already satisfied: nest-asyncio>=1.5 in c:\\users\\polos\\appdata\\local\\programs\\python\\python38\\lib\\site-packages (from jupyter-client<8.0->ipykernel>=4.5.1->ipywidgets>=7.0.0->ipyturtle) (1.5.1)\n",
      "Requirement already satisfied: python-dateutil>=2.1 in c:\\users\\polos\\appdata\\local\\programs\\python\\python38\\lib\\site-packages (from jupyter-client<8.0->ipykernel>=4.5.1->ipywidgets>=7.0.0->ipyturtle) (2.8.1)\n",
      "Requirement already satisfied: pyzmq>=13 in c:\\users\\polos\\appdata\\local\\programs\\python\\python38\\lib\\site-packages (from jupyter-client<8.0->ipykernel>=4.5.1->ipywidgets>=7.0.0->ipyturtle) (22.3.0)\n",
      "Requirement already satisfied: entrypoints in c:\\users\\polos\\appdata\\local\\programs\\python\\python38\\lib\\site-packages (from jupyter-client<8.0->ipykernel>=4.5.1->ipywidgets>=7.0.0->ipyturtle) (0.3)\n",
      "Requirement already satisfied: pywin32>=1.0 in c:\\users\\polos\\appdata\\local\\programs\\python\\python38\\lib\\site-packages (from jupyter-core->nbformat>=4.2.0->ipywidgets>=7.0.0->ipyturtle) (227)\n",
      "Requirement already satisfied: argon2-cffi in c:\\users\\polos\\appdata\\local\\programs\\python\\python38\\lib\\site-packages (from notebook>=4.4.1->widgetsnbextension~=3.5.0->ipywidgets>=7.0.0->ipyturtle) (21.1.0)\n",
      "Requirement already satisfied: prometheus-client in c:\\users\\polos\\appdata\\local\\programs\\python\\python38\\lib\\site-packages (from notebook>=4.4.1->widgetsnbextension~=3.5.0->ipywidgets>=7.0.0->ipyturtle) (0.11.0)\n",
      "Requirement already satisfied: terminado>=0.8.3 in c:\\users\\polos\\appdata\\local\\programs\\python\\python38\\lib\\site-packages (from notebook>=4.4.1->widgetsnbextension~=3.5.0->ipywidgets>=7.0.0->ipyturtle) (0.12.1)\n",
      "Requirement already satisfied: nbconvert in c:\\users\\polos\\appdata\\local\\programs\\python\\python38\\lib\\site-packages (from notebook>=4.4.1->widgetsnbextension~=3.5.0->ipywidgets>=7.0.0->ipyturtle) (6.2.0)\n",
      "Requirement already satisfied: Send2Trash>=1.5.0 in c:\\users\\polos\\appdata\\local\\programs\\python\\python38\\lib\\site-packages (from notebook>=4.4.1->widgetsnbextension~=3.5.0->ipywidgets>=7.0.0->ipyturtle) (1.8.0)\n",
      "Requirement already satisfied: jinja2 in c:\\users\\polos\\appdata\\local\\programs\\python\\python38\\lib\\site-packages (from notebook>=4.4.1->widgetsnbextension~=3.5.0->ipywidgets>=7.0.0->ipyturtle) (2.11.2)\n",
      "Requirement already satisfied: wcwidth in c:\\users\\polos\\appdata\\local\\programs\\python\\python38\\lib\\site-packages (from prompt-toolkit!=3.0.0,!=3.0.1,<3.1.0,>=2.0.0->ipython>=4.0.0->ipywidgets>=7.0.0->ipyturtle) (0.2.5)\n",
      "Requirement already satisfied: pywinpty>=1.1.0 in c:\\users\\polos\\appdata\\local\\programs\\python\\python38\\lib\\site-packages (from terminado>=0.8.3->notebook>=4.4.1->widgetsnbextension~=3.5.0->ipywidgets>=7.0.0->ipyturtle) (1.1.4)\n",
      "Requirement already satisfied: cffi>=1.0.0 in c:\\users\\polos\\appdata\\local\\programs\\python\\python38\\lib\\site-packages (from argon2-cffi->notebook>=4.4.1->widgetsnbextension~=3.5.0->ipywidgets>=7.0.0->ipyturtle) (1.14.4)\n",
      "Requirement already satisfied: MarkupSafe>=0.23 in c:\\users\\polos\\appdata\\local\\programs\\python\\python38\\lib\\site-packages (from jinja2->notebook>=4.4.1->widgetsnbextension~=3.5.0->ipywidgets>=7.0.0->ipyturtle) (1.1.1)\n",
      "Requirement already satisfied: nbclient<0.6.0,>=0.5.0 in c:\\users\\polos\\appdata\\local\\programs\\python\\python38\\lib\\site-packages (from nbconvert->notebook>=4.4.1->widgetsnbextension~=3.5.0->ipywidgets>=7.0.0->ipyturtle) (0.5.4)\n",
      "Requirement already satisfied: mistune<2,>=0.8.1 in c:\\users\\polos\\appdata\\local\\programs\\python\\python38\\lib\\site-packages (from nbconvert->notebook>=4.4.1->widgetsnbextension~=3.5.0->ipywidgets>=7.0.0->ipyturtle) (0.8.4)\n",
      "Requirement already satisfied: testpath in c:\\users\\polos\\appdata\\local\\programs\\python\\python38\\lib\\site-packages (from nbconvert->notebook>=4.4.1->widgetsnbextension~=3.5.0->ipywidgets>=7.0.0->ipyturtle) (0.5.0)\n",
      "Requirement already satisfied: jupyterlab-pygments in c:\\users\\polos\\appdata\\local\\programs\\python\\python38\\lib\\site-packages (from nbconvert->notebook>=4.4.1->widgetsnbextension~=3.5.0->ipywidgets>=7.0.0->ipyturtle) (0.1.2)\n",
      "Requirement already satisfied: pandocfilters>=1.4.1 in c:\\users\\polos\\appdata\\local\\programs\\python\\python38\\lib\\site-packages (from nbconvert->notebook>=4.4.1->widgetsnbextension~=3.5.0->ipywidgets>=7.0.0->ipyturtle) (1.5.0)\n",
      "Requirement already satisfied: defusedxml in c:\\users\\polos\\appdata\\local\\programs\\python\\python38\\lib\\site-packages (from nbconvert->notebook>=4.4.1->widgetsnbextension~=3.5.0->ipywidgets>=7.0.0->ipyturtle) (0.7.1)\n",
      "Requirement already satisfied: bleach in c:\\users\\polos\\appdata\\local\\programs\\python\\python38\\lib\\site-packages (from nbconvert->notebook>=4.4.1->widgetsnbextension~=3.5.0->ipywidgets>=7.0.0->ipyturtle) (4.1.0)\n",
      "Requirement already satisfied: pycparser in c:\\users\\polos\\appdata\\local\\programs\\python\\python38\\lib\\site-packages (from cffi>=1.0.0->argon2-cffi->notebook>=4.4.1->widgetsnbextension~=3.5.0->ipywidgets>=7.0.0->ipyturtle) (2.20)\n",
      "Requirement already satisfied: packaging in c:\\users\\polos\\appdata\\local\\programs\\python\\python38\\lib\\site-packages (from bleach->nbconvert->notebook>=4.4.1->widgetsnbextension~=3.5.0->ipywidgets>=7.0.0->ipyturtle) (20.8)\n",
      "Requirement already satisfied: webencodings in c:\\users\\polos\\appdata\\local\\programs\\python\\python38\\lib\\site-packages (from bleach->nbconvert->notebook>=4.4.1->widgetsnbextension~=3.5.0->ipywidgets>=7.0.0->ipyturtle) (0.5.1)\n",
      "Requirement already satisfied: pyparsing>=2.0.2 in c:\\users\\polos\\appdata\\local\\programs\\python\\python38\\lib\\site-packages (from packaging->bleach->nbconvert->notebook>=4.4.1->widgetsnbextension~=3.5.0->ipywidgets>=7.0.0->ipyturtle) (2.4.7)\n",
      "Installing collected packages: ipyturtle\n",
      "Successfully installed ipyturtle-0.2.4\n",
      "Note: you may need to restart the kernel to use updated packages.\n"
     ]
    },
    {
     "name": "stderr",
     "output_type": "stream",
     "text": [
      "WARNING: You are using pip version 21.3.1; however, version 22.0.3 is available.\n",
      "You should consider upgrading via the 'c:\\users\\polos\\appdata\\local\\programs\\python\\python38\\python.exe -m pip install --upgrade pip' command.\n"
     ]
    }
   ],
   "source": [
    "pip install ipyturtle"
   ]
  },
  {
   "cell_type": "code",
   "execution_count": 1,
   "id": "c6063a8c",
   "metadata": {},
   "outputs": [],
   "source": [
    "# c помощью turtle нарисовать рисунок согласно варианта\n",
    "from ipyturtle import Turtle\n",
    "\n",
    "t = Turtle()\n",
    "length_line = 100 # длина шага черепахи\n",
    "\n",
    "for i in range(1, 6):\n",
    "    t.forward(length_line)\n",
    "    if i > 2:\n",
    "        t.right(90)\n",
    "    else:\n",
    "        t.left(90)"
   ]
  },
  {
   "cell_type": "code",
   "execution_count": 4,
   "id": "700aa7b1",
   "metadata": {},
   "outputs": [
    {
     "ename": "AttributeError",
     "evalue": "'Turtle' object has no attribute 'goto'",
     "output_type": "error",
     "traceback": [
      "\u001b[1;31m---------------------------------------------------------------------------\u001b[0m",
      "\u001b[1;31mAttributeError\u001b[0m                            Traceback (most recent call last)",
      "\u001b[1;32m~\\AppData\\Local\\Temp/ipykernel_8656/3285731733.py\u001b[0m in \u001b[0;36m<module>\u001b[1;34m\u001b[0m\n\u001b[0;32m     19\u001b[0m \u001b[1;33m\u001b[0m\u001b[0m\n\u001b[0;32m     20\u001b[0m \u001b[1;31m# decart_plane()\u001b[0m\u001b[1;33m\u001b[0m\u001b[1;33m\u001b[0m\u001b[1;33m\u001b[0m\u001b[0m\n\u001b[1;32m---> 21\u001b[1;33m \u001b[0mfirst_circle\u001b[0m\u001b[1;33m(\u001b[0m\u001b[1;33m)\u001b[0m\u001b[1;33m\u001b[0m\u001b[1;33m\u001b[0m\u001b[0m\n\u001b[0m",
      "\u001b[1;32m~\\AppData\\Local\\Temp/ipykernel_8656/3285731733.py\u001b[0m in \u001b[0;36mfirst_circle\u001b[1;34m()\u001b[0m\n\u001b[0;32m     14\u001b[0m     \u001b[0mt\u001b[0m\u001b[1;33m.\u001b[0m\u001b[0mpenup\u001b[0m\u001b[1;33m(\u001b[0m\u001b[1;33m)\u001b[0m\u001b[1;33m\u001b[0m\u001b[1;33m\u001b[0m\u001b[0m\n\u001b[0;32m     15\u001b[0m     \u001b[0mt\u001b[0m\u001b[1;33m.\u001b[0m\u001b[0mpencolor\u001b[0m\u001b[1;33m(\u001b[0m\u001b[1;34m\"red\"\u001b[0m\u001b[1;33m)\u001b[0m\u001b[1;33m\u001b[0m\u001b[1;33m\u001b[0m\u001b[0m\n\u001b[1;32m---> 16\u001b[1;33m     \u001b[0mt\u001b[0m\u001b[1;33m.\u001b[0m\u001b[0mgoto\u001b[0m\u001b[1;33m(\u001b[0m\u001b[1;33m)\u001b[0m\u001b[1;33m\u001b[0m\u001b[1;33m\u001b[0m\u001b[0m\n\u001b[0m\u001b[0;32m     17\u001b[0m     \u001b[0mt\u001b[0m\u001b[1;33m.\u001b[0m\u001b[0mgoto\u001b[0m\u001b[1;33m(\u001b[0m\u001b[1;36m100\u001b[0m\u001b[1;33m,\u001b[0m \u001b[1;36m100\u001b[0m\u001b[1;33m)\u001b[0m\u001b[1;33m\u001b[0m\u001b[1;33m\u001b[0m\u001b[0m\n\u001b[0;32m     18\u001b[0m     \u001b[0mt\u001b[0m\u001b[1;33m.\u001b[0m\u001b[0mcircle\u001b[0m\u001b[1;33m(\u001b[0m\u001b[1;36m50\u001b[0m\u001b[1;33m)\u001b[0m\u001b[1;33m\u001b[0m\u001b[1;33m\u001b[0m\u001b[0m\n",
      "\u001b[1;31mAttributeError\u001b[0m: 'Turtle' object has no attribute 'goto'"
     ]
    }
   ],
   "source": [
    "t = Turtle()\n",
    "def decart_plane():\n",
    "    t.forward(200)\n",
    "    t.left(180)\n",
    "    t.forward(400)\n",
    "    t.left(180)\n",
    "    t.forward(200)\n",
    "    t.left(90)\n",
    "    t.forward(200)\n",
    "    t.left(180)\n",
    "    t.forward(400)\n",
    "\n",
    "def first_circle():\n",
    "    t.penup()\n",
    "    t.pencolor(\"red\")\n",
    "    t.goto()\n",
    "    t.goto(100, 100)\n",
    "    t.circle(50)\n",
    "    \n",
    "# decart_plane()\n",
    "first_circle()"
   ]
  },
  {
   "cell_type": "code",
   "execution_count": null,
   "id": "dfa0971d",
   "metadata": {},
   "outputs": [],
   "source": []
  }
 ],
 "metadata": {
  "kernelspec": {
   "display_name": "Python 3 (ipykernel)",
   "language": "python",
   "name": "python3"
  },
  "language_info": {
   "codemirror_mode": {
    "name": "ipython",
    "version": 3
   },
   "file_extension": ".py",
   "mimetype": "text/x-python",
   "name": "python",
   "nbconvert_exporter": "python",
   "pygments_lexer": "ipython3",
   "version": "3.8.4rc1"
  }
 },
 "nbformat": 4,
 "nbformat_minor": 5
}
